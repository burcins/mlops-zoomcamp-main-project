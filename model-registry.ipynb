{
 "cells": [
  {
   "cell_type": "code",
   "execution_count": 1,
   "id": "2e25cf66",
   "metadata": {},
   "outputs": [],
   "source": [
    "import joblib\n",
    "\n",
    "import pandas as pd\n",
    "import numpy as np\n",
    "import xgboost as xgb\n",
    "\n",
    "from sklearn.metrics import confusion_matrix,classification_report,accuracy_score\n",
    "from sklearn.pipeline import Pipeline\n",
    "from sklearn.compose import ColumnTransformer\n",
    "from sklearn.preprocessing import OneHotEncoder, StandardScaler\n",
    "from sklearn.model_selection import train_test_split\n",
    "from sklearn.multiclass import OneVsRestClassifier\n",
    "\n",
    "from mlflow.tracking import MlflowClient"
   ]
  },
  {
   "cell_type": "code",
   "execution_count": 5,
   "id": "506bec39",
   "metadata": {},
   "outputs": [],
   "source": [
    "import mlflow\n",
    "from mlflow.tracking import MlflowClient\n",
    "\n",
    "mlflow.set_tracking_uri(\"sqlite:///mlflow-experiments.db\")\n",
    "\n",
    "mlflow.set_experiment(\"wine_quality_clf\")"
   ]
  },
  {
   "cell_type": "code",
   "execution_count": 11,
   "id": "b9666e19",
   "metadata": {},
   "outputs": [],
   "source": [
    "def read_dataframe():\n",
    "    redwine = pd.read_csv('http://archive.ics.uci.edu/ml/machine-learning-databases/wine-quality/winequality-red.csv', sep=';')\n",
    "    redwine['type'] = 'red'\n",
    "\n",
    "    whitewine = pd.read_csv('http://archive.ics.uci.edu/ml/machine-learning-databases/wine-quality/winequality-white.csv', sep=';')\n",
    "    whitewine['type'] = 'white'\n",
    "\n",
    "    df = pd.concat([redwine, whitewine], axis = 0).reset_index(drop=True)\n",
    "    \n",
    "    numeric_columns = ['fixed acidity', 'volatile acidity', 'citric acid', 'residual sugar',\n",
    "       'chlorides', 'free sulfur dioxide', 'total sulfur dioxide', 'density',\n",
    "       'pH', 'sulphates', 'alcohol']\n",
    "\n",
    "    df['quality'] =  np.where(df.quality.isin([3,4]), '3-4', np.where(df.quality.isin([8,9]), '8-9', df.quality))\n",
    "    df['quality'] =  df.quality.astype('object')\n",
    "    \n",
    "    return df, numeric_columns\n",
    "\n",
    "\n",
    "def train_model(df, numeric_columns):\n",
    "    X_train, X_test, y_train, y_test = train_test_split(df.drop('quality', axis=1), df.quality,\n",
    "                                                    stratify=df.quality, \n",
    "                                                    test_size=0.3,\n",
    "                                                    random_state=123)\n",
    "\n",
    "\n",
    "    pipe = Pipeline([\n",
    "        ('column_transformer', ColumnTransformer([\n",
    "            ('one-hot', OneHotEncoder(handle_unknown='ignore'), ['type']),\n",
    "            ('scaler', StandardScaler(), numeric_columns)], remainder='drop')),\n",
    "        ('model', OneVsRestClassifier(xgb.XGBClassifier(random_state= 123, eval_metric='logloss')))])\n",
    "            \n",
    "    return X_train, X_test, y_train, y_test, pipe"
   ]
  },
  {
   "cell_type": "code",
   "execution_count": 12,
   "id": "6b5f0d80",
   "metadata": {},
   "outputs": [],
   "source": [
    "df, numeric_columns = read_dataframe()\n",
    "\n",
    "X_train, X_test, y_train, y_test, pipe = train_model(df, numeric_columns)"
   ]
  },
  {
   "cell_type": "code",
   "execution_count": 13,
   "id": "c73081e1",
   "metadata": {},
   "outputs": [
    {
     "name": "stderr",
     "output_type": "stream",
     "text": [
      "/usr/local/lib/python3.8/dist-packages/xgboost/sklearn.py:888: UserWarning: The use of label encoder in XGBClassifier is deprecated and will be removed in a future release. To remove this warning, do the following: 1) Pass option use_label_encoder=False when constructing XGBClassifier object; and 2) Encode your labels (y) as integers starting with 0, i.e. 0, 1, 2, ..., [num_class - 1].\n",
      "  warnings.warn(label_encoder_deprecation_msg, UserWarning)\n"
     ]
    },
    {
     "name": "stdout",
     "output_type": "stream",
     "text": [
      "Model Accuracy : 0.6594871794871795\n"
     ]
    }
   ],
   "source": [
    "with mlflow.start_run():\n",
    "    params = dict(random_state= 123, eval_metric='logloss')\n",
    "    mlflow.log_params(params)\n",
    "\n",
    "    pipe.fit(X_train, y_train)\n",
    "    y_pred = pipe.predict(X_test) \n",
    "\n",
    "    accuracy = accuracy_score(y_pred, y_test)\n",
    "    print('Model Accuracy :', accuracy)\n",
    "    mlflow.log_metric('accuracy', accuracy)\n",
    "\n",
    "    mlflow.sklearn.log_model(pipe, artifact_path=\"model\")"
   ]
  },
  {
   "cell_type": "code",
   "execution_count": 30,
   "id": "d8ec4388",
   "metadata": {},
   "outputs": [
    {
     "data": {
      "text/plain": [
       "[<Experiment: artifact_location='./mlruns/0', experiment_id='0', lifecycle_stage='active', name='Default', tags={}>,\n",
       " <Experiment: artifact_location='./mlruns/1', experiment_id='1', lifecycle_stage='active', name='wine_qualit_clf', tags={}>,\n",
       " <Experiment: artifact_location='./mlruns/2', experiment_id='2', lifecycle_stage='active', name='wine_quality_clf', tags={}>]"
      ]
     },
     "execution_count": 30,
     "metadata": {},
     "output_type": "execute_result"
    }
   ],
   "source": [
    "client = MlflowClient(tracking_uri=\"sqlite:///mlflow-experiments.db\")\n",
    "\n",
    "experiment_list = client.list_experiments()\n"
   ]
  },
  {
   "cell_type": "code",
   "execution_count": 28,
   "id": "ea132331",
   "metadata": {},
   "outputs": [
    {
     "name": "stdout",
     "output_type": "stream",
     "text": [
      "run id: 86c3fad4fc9348ef8a0d923f182e7a70, accuracy: 0.0303\n",
      "run id: d2876ca137ba45ea9cb951b129f718c5, accuracy: 0.5513\n",
      "run id: 992ecf9e517547c6a4f03fa6a2d07dd5, accuracy: 0.6169\n",
      "run id: a80061a7fe204ac9b7535443f2646c29, accuracy: 0.5821\n",
      "run id: 300244f6f3294016ac0381e0b5d8fb69, accuracy: 0.5636\n",
      "run id: 43f36031293941ed8d47c217efab55d1, accuracy: 0.0303\n",
      "run id: 73e04249178348039578579278b0232a, accuracy: 0.5985\n",
      "run id: 7f6e158c36884ad5bcfbd4e9d7244f0b, accuracy: 0.5708\n",
      "run id: af851998f87d476e9306a6e5729b5bd2, accuracy: 0.5477\n",
      "run id: 8c25338047fc48c191e24b1852c08308, accuracy: 0.0303\n"
     ]
    },
    {
     "ename": "KeyError",
     "evalue": "'accuracy_score'",
     "output_type": "error",
     "traceback": [
      "\u001b[0;31m---------------------------------------------------------------------------\u001b[0m",
      "\u001b[0;31mKeyError\u001b[0m                                  Traceback (most recent call last)",
      "\u001b[0;32m<ipython-input-28-87682db515a4>\u001b[0m in \u001b[0;36m<module>\u001b[0;34m\u001b[0m\n\u001b[1;32m      4\u001b[0m \u001b[0;34m\u001b[0m\u001b[0m\n\u001b[1;32m      5\u001b[0m \u001b[0;32mfor\u001b[0m \u001b[0mrun\u001b[0m \u001b[0;32min\u001b[0m \u001b[0mruns\u001b[0m\u001b[0;34m:\u001b[0m\u001b[0;34m\u001b[0m\u001b[0;34m\u001b[0m\u001b[0m\n\u001b[0;32m----> 6\u001b[0;31m     \u001b[0mprint\u001b[0m\u001b[0;34m(\u001b[0m\u001b[0;34mf\"run id: {run.info.run_id}, accuracy: {run.data.metrics['accuracy_score']:.4f}\"\u001b[0m\u001b[0;34m)\u001b[0m\u001b[0;34m\u001b[0m\u001b[0;34m\u001b[0m\u001b[0m\n\u001b[0m",
      "\u001b[0;31mKeyError\u001b[0m: 'accuracy_score'"
     ]
    }
   ],
   "source": [
    "runs = client.search_runs(\n",
    "    experiment_ids='2'\n",
    ")\n",
    "\n",
    "for run in runs:\n",
    "    print(f\"run id: {run.info.run_id}, accuracy: {run.data.metrics['accuracy_score']:.4f}\")"
   ]
  },
  {
   "cell_type": "code",
   "execution_count": 16,
   "id": "30ca0666",
   "metadata": {},
   "outputs": [
    {
     "name": "stderr",
     "output_type": "stream",
     "text": [
      "INFO  [alembic.runtime.migration] Context impl SQLiteImpl.\n",
      "INFO  [alembic.runtime.migration] Will assume non-transactional DDL.\n",
      "Successfully registered model 'wine_quality_clf'.\n",
      "INFO  [alembic.runtime.migration] Context impl SQLiteImpl.\n",
      "INFO  [alembic.runtime.migration] Will assume non-transactional DDL.\n",
      "2022/09/12 14:31:53 INFO mlflow.tracking._model_registry.client: Waiting up to 300 seconds for model version to finish creation.                     Model name: wine_quality_clf, version 1\n",
      "Created version '1' of model 'wine_quality_clf'.\n"
     ]
    },
    {
     "data": {
      "text/plain": [
       "<ModelVersion: creation_timestamp=1662982312990, current_stage='None', description=None, last_updated_timestamp=1662982312990, name='wine_quality_clf', run_id='0c97a1e2b4a2472f825f4c29c5711b56', run_link=None, source='./mlruns/1/0c97a1e2b4a2472f825f4c29c5711b56/artifacts/model', status='READY', status_message=None, tags={}, user_id=None, version=1>"
      ]
     },
     "execution_count": 16,
     "metadata": {},
     "output_type": "execute_result"
    }
   ],
   "source": [
    "run_id = '0c97a1e2b4a2472f825f4c29c5711b56'\n",
    "model_uri = f\"runs:/{run_id}/model\"\n",
    "mlflow.register_model(model_uri=model_uri, name=\"wine_quality_clf\")"
   ]
  },
  {
   "cell_type": "code",
   "execution_count": 18,
   "id": "632d2c69",
   "metadata": {},
   "outputs": [
    {
     "data": {
      "text/plain": [
       "<ModelVersion: creation_timestamp=1662982312990, current_stage='Staging', description=None, last_updated_timestamp=1662982395405, name='wine_quality_clf', run_id='0c97a1e2b4a2472f825f4c29c5711b56', run_link=None, source='./mlruns/1/0c97a1e2b4a2472f825f4c29c5711b56/artifacts/model', status='READY', status_message=None, tags={}, user_id=None, version=1>"
      ]
     },
     "execution_count": 18,
     "metadata": {},
     "output_type": "execute_result"
    }
   ],
   "source": [
    "model_version = 1\n",
    "model_name = \"wine_quality_clf\"\n",
    "new_stage = \"Staging\"\n",
    "client.transition_model_version_stage(\n",
    "    name=model_name,\n",
    "    version=model_version,\n",
    "    stage=new_stage,\n",
    "    archive_existing_versions=False\n",
    ")"
   ]
  },
  {
   "cell_type": "code",
   "execution_count": 19,
   "id": "8c06590e",
   "metadata": {},
   "outputs": [
    {
     "name": "stdout",
     "output_type": "stream",
     "text": [
      "version: 1, stage: Staging\n"
     ]
    }
   ],
   "source": [
    "\n",
    "latest_versions = client.get_latest_versions(name=model_name)\n",
    "\n",
    "for version in latest_versions:\n",
    "    print(f\"version: {version.version}, stage: {version.current_stage}\")"
   ]
  },
  {
   "cell_type": "code",
   "execution_count": 20,
   "id": "632d2c69",
   "metadata": {},
   "outputs": [
    {
     "data": {
      "text/plain": [
       "<ModelVersion: creation_timestamp=1662982312990, current_stage='Production', description=None, last_updated_timestamp=1662982450040, name='wine_quality_clf', run_id='0c97a1e2b4a2472f825f4c29c5711b56', run_link=None, source='./mlruns/1/0c97a1e2b4a2472f825f4c29c5711b56/artifacts/model', status='READY', status_message=None, tags={}, user_id=None, version=1>"
      ]
     },
     "execution_count": 20,
     "metadata": {},
     "output_type": "execute_result"
    }
   ],
   "source": [
    "model_version = 1\n",
    "model_name = \"wine_quality_clf\"\n",
    "new_stage = \"Production\"\n",
    "client.transition_model_version_stage(\n",
    "    name=model_name,\n",
    "    version=model_version,\n",
    "    stage=new_stage,\n",
    "    archive_existing_versions=False\n",
    ")"
   ]
  },
  {
   "cell_type": "code",
   "execution_count": 22,
   "id": "bd3cb86c",
   "metadata": {},
   "outputs": [
    {
     "data": {
      "text/plain": [
       "<ModelVersion: creation_timestamp=1662982312990, current_stage='Production', description=None, last_updated_timestamp=1662982472604, name='wine_quality_clf', run_id='0c97a1e2b4a2472f825f4c29c5711b56', run_link=None, source='./mlruns/1/0c97a1e2b4a2472f825f4c29c5711b56/artifacts/model', status='READY', status_message=None, tags={}, user_id=None, version=1>"
      ]
     },
     "execution_count": 22,
     "metadata": {},
     "output_type": "execute_result"
    }
   ],
   "source": [
    "client.transition_model_version_stage(\n",
    "    name=model_name,\n",
    "    version=1,\n",
    "    stage=\"Production\",\n",
    "    archive_existing_versions=True\n",
    ")"
   ]
  },
  {
   "cell_type": "code",
   "execution_count": null,
   "id": "eb105107",
   "metadata": {},
   "outputs": [],
   "source": []
  },
  {
   "cell_type": "code",
   "execution_count": null,
   "id": "a27cdc5a",
   "metadata": {},
   "outputs": [],
   "source": []
  },
  {
   "cell_type": "code",
   "execution_count": 6,
   "id": "b3ac1c73",
   "metadata": {},
   "outputs": [],
   "source": [
    "from mlflow.entities import ViewType\n",
    "\n",
    "EXPERIMENT_NAME = 'wine_quality_clf'\n",
    "\n",
    "def run():\n",
    "\n",
    "    client = MlflowClient()\n",
    "\n",
    "    # retrieve the top_n model runs and log the models to MLflow\n",
    "    experiment = client.get_experiment_by_name(EXPERIMENT_NAME)\n",
    "    \n",
    "\n",
    "    # select the model with the highest accuracy\n",
    "    experiment = client.get_experiment_by_name(EXPERIMENT_NAME)\n",
    "    best_run = client.search_runs( \n",
    "    experiment_ids=experiment.experiment_id,\n",
    "    run_view_type=ViewType.ACTIVE_ONLY,\n",
    "    max_results=5,\n",
    "    order_by=[\"metrics.accuracy_score DESC\"]\n",
    "    )[0]\n",
    "\n",
    "    # register the best model\n",
    "    run_id = best_run.info.run_id\n",
    "    model_uri = f\"runs:/{run_id}/model\"\n",
    "    print(\"Accuracy score of the best model\" , best_run.data.metrics['accuracy_score'])\n",
    "    model_name = \"wine_quality_clf\" \n",
    "    #mlflow.register_model(model_uri=model_uri, name=model_name)\n",
    "    \n",
    "    return model_uri, model_name \n"
   ]
  },
  {
   "cell_type": "code",
   "execution_count": 7,
   "id": "bcf9a66e",
   "metadata": {},
   "outputs": [
    {
     "name": "stdout",
     "output_type": "stream",
     "text": [
      "Accuracy score of the best model 0.6169230769230769\n"
     ]
    },
    {
     "data": {
      "text/plain": [
       "('runs:/992ecf9e517547c6a4f03fa6a2d07dd5/model', 'wine_quality_clf')"
      ]
     },
     "execution_count": 7,
     "metadata": {},
     "output_type": "execute_result"
    }
   ],
   "source": [
    "run()"
   ]
  },
  {
   "cell_type": "code",
   "execution_count": null,
   "id": "5b125f71",
   "metadata": {},
   "outputs": [],
   "source": [
    "def register_model(model_uri, model_name):\n",
    "    client.transition_model_version_stage(\n",
    "        name=model_name,\n",
    "        version=1,\n",
    "        stage=\"Staging\",\n",
    "        archive_existing_versions=True\n",
    "    )"
   ]
  }
 ],
 "metadata": {
  "kernelspec": {
   "display_name": "Python 3.8.10 64-bit",
   "language": "python",
   "name": "python3"
  },
  "language_info": {
   "codemirror_mode": {
    "name": "ipython",
    "version": 3
   },
   "file_extension": ".py",
   "mimetype": "text/x-python",
   "name": "python",
   "nbconvert_exporter": "python",
   "pygments_lexer": "ipython3",
   "version": "3.8.10"
  },
  "vscode": {
   "interpreter": {
    "hash": "916dbcbb3f70747c44a77c7bcd40155683ae19c65e1c03b4aa3499c5328201f1"
   }
  }
 },
 "nbformat": 4,
 "nbformat_minor": 5
}
